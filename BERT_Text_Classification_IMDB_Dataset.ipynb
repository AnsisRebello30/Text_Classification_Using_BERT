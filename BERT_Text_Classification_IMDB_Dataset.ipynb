{
  "cells": [
    {
      "cell_type": "markdown",
      "id": "8b0ca50d",
      "metadata": {
        "id": "8b0ca50d"
      },
      "source": [
        "# 🧠 Sentiment Analysis using BERT on IMDb Dataset\n",
        "This notebook fine-tunes BERT for binary text classification (Positive / Negative reviews)."
      ]
    },
    {
      "cell_type": "code",
      "execution_count": 1,
      "id": "e84c6dc8",
      "metadata": {
        "colab": {
          "base_uri": "https://localhost:8080/"
        },
        "id": "e84c6dc8",
        "outputId": "83de14ad-30a0-4578-8910-f3cb1f42b169"
      },
      "outputs": [
        {
          "output_type": "stream",
          "name": "stdout",
          "text": [
            "Drive already mounted at /content/drive; to attempt to forcibly remount, call drive.mount(\"/content/drive\", force_remount=True).\n",
            "                                              review sentiment\n",
            "0  One of the other reviewers has mentioned that ...  positive\n",
            "1  A wonderful little production. <br /><br />The...  positive\n",
            "2  I thought this was a wonderful way to spend ti...  positive\n",
            "3  Basically there's a family where a little boy ...  negative\n",
            "4  Petter Mattei's \"Love in the Time of Money\" is...  positive\n",
            "(50000, 2)\n"
          ]
        }
      ],
      "source": [
        "from google.colab import drive\n",
        "drive.mount('/content/drive')\n",
        "\n",
        "data_path = \"/content/drive/MyDrive/NLP_BERT_dataset/IMDB Dataset.csv\"\n",
        "\n",
        "import pandas as pd\n",
        "df = pd.read_csv(data_path)\n",
        "print(df.head())\n",
        "print(df.shape)"
      ]
    },
    {
      "cell_type": "code",
      "execution_count": 2,
      "id": "f6259c59",
      "metadata": {
        "colab": {
          "base_uri": "https://localhost:8080/"
        },
        "id": "f6259c59",
        "outputId": "821fb097-8f1f-4609-92e2-d7295cfacaeb"
      },
      "outputs": [
        {
          "output_type": "stream",
          "name": "stdout",
          "text": [
            "label\n",
            "1    25000\n",
            "0    25000\n",
            "Name: count, dtype: int64\n"
          ]
        }
      ],
      "source": [
        "df[\"label\"] = df[\"sentiment\"].apply(lambda x: 1 if x == \"positive\" else 0)\n",
        "df = df[[\"review\", \"label\"]]\n",
        "print(df[\"label\"].value_counts())"
      ]
    },
    {
      "cell_type": "code",
      "execution_count": 3,
      "id": "3aeb8622",
      "metadata": {
        "colab": {
          "base_uri": "https://localhost:8080/"
        },
        "id": "3aeb8622",
        "outputId": "647efffb-8d90-4be9-8c32-021d0d490693"
      },
      "outputs": [
        {
          "output_type": "stream",
          "name": "stdout",
          "text": [
            "Train size: 40000\n",
            "Test size: 10000\n"
          ]
        }
      ],
      "source": [
        "from sklearn.model_selection import train_test_split\n",
        "train_texts, test_texts, train_labels, test_labels = train_test_split(\n",
        "    df[\"review\"].tolist(), df[\"label\"].tolist(), test_size=0.2, random_state=42\n",
        ")\n",
        "print(\"Train size:\", len(train_texts))\n",
        "print(\"Test size:\", len(test_texts))"
      ]
    },
    {
      "cell_type": "code",
      "execution_count": 4,
      "id": "05bf4e3f",
      "metadata": {
        "id": "05bf4e3f"
      },
      "outputs": [],
      "source": [
        "!pip install transformers datasets torch scikit-learn matplotlib seaborn -q"
      ]
    },
    {
      "cell_type": "code",
      "execution_count": 5,
      "id": "4e098a88",
      "metadata": {
        "id": "4e098a88"
      },
      "outputs": [],
      "source": [
        "from transformers import BertTokenizer, BertForSequenceClassification, Trainer, TrainingArguments\n",
        "import torch\n",
        "import numpy as np\n",
        "from sklearn.metrics import accuracy_score, precision_recall_fscore_support, confusion_matrix\n",
        "import matplotlib.pyplot as plt\n",
        "import seaborn as sns"
      ]
    },
    {
      "cell_type": "code",
      "execution_count": 6,
      "id": "65a91e0b",
      "metadata": {
        "colab": {
          "base_uri": "https://localhost:8080/"
        },
        "id": "65a91e0b",
        "outputId": "d9cbb7a0-3947-4848-adce-ab4b76e2dd06"
      },
      "outputs": [
        {
          "output_type": "stream",
          "name": "stderr",
          "text": [
            "/usr/local/lib/python3.12/dist-packages/huggingface_hub/utils/_auth.py:94: UserWarning: \n",
            "The secret `HF_TOKEN` does not exist in your Colab secrets.\n",
            "To authenticate with the Hugging Face Hub, create a token in your settings tab (https://huggingface.co/settings/tokens), set it as secret in your Google Colab and restart your session.\n",
            "You will be able to reuse this secret in all of your notebooks.\n",
            "Please note that authentication is recommended but still optional to access public models or datasets.\n",
            "  warnings.warn(\n"
          ]
        }
      ],
      "source": [
        "tokenizer = BertTokenizer.from_pretrained(\"bert-base-uncased\")\n",
        "train_encodings = tokenizer(train_texts, truncation=True, padding=True, max_length=256)\n",
        "test_encodings = tokenizer(test_texts, truncation=True, padding=True, max_length=256)"
      ]
    },
    {
      "cell_type": "code",
      "execution_count": 7,
      "id": "2bc9ee01",
      "metadata": {
        "id": "2bc9ee01"
      },
      "outputs": [],
      "source": [
        "class IMDbDataset(torch.utils.data.Dataset):\n",
        "    def __init__(self, encodings, labels):\n",
        "        self.encodings = encodings\n",
        "        self.labels = labels\n",
        "\n",
        "    def __getitem__(self, idx):\n",
        "        item = {key: torch.tensor(val[idx]) for key, val in self.encodings.items()}\n",
        "        item[\"labels\"] = torch.tensor(self.labels[idx])\n",
        "        return item\n",
        "\n",
        "    def __len__(self):\n",
        "        return len(self.labels)\n",
        "\n",
        "train_dataset = IMDbDataset(train_encodings, train_labels)\n",
        "test_dataset = IMDbDataset(test_encodings, test_labels)"
      ]
    },
    {
      "cell_type": "code",
      "execution_count": 8,
      "id": "b3b551df",
      "metadata": {
        "colab": {
          "base_uri": "https://localhost:8080/"
        },
        "id": "b3b551df",
        "outputId": "cd0729b4-66f6-48ad-b38d-1ec6ffa857fc"
      },
      "outputs": [
        {
          "output_type": "stream",
          "name": "stderr",
          "text": [
            "Some weights of BertForSequenceClassification were not initialized from the model checkpoint at bert-base-uncased and are newly initialized: ['classifier.bias', 'classifier.weight']\n",
            "You should probably TRAIN this model on a down-stream task to be able to use it for predictions and inference.\n"
          ]
        }
      ],
      "source": [
        "model = BertForSequenceClassification.from_pretrained(\"bert-base-uncased\", num_labels=2)"
      ]
    },
    {
      "cell_type": "code",
      "execution_count": 9,
      "id": "293e1417",
      "metadata": {
        "id": "293e1417"
      },
      "outputs": [],
      "source": [
        "def compute_metrics(pred):\n",
        "    labels = pred.label_ids\n",
        "    preds = np.argmax(pred.predictions, axis=1)\n",
        "    precision, recall, f1, _ = precision_recall_fscore_support(labels, preds, average='binary')\n",
        "    acc = accuracy_score(labels, preds)\n",
        "    return {\"accuracy\": acc, \"f1\": f1, \"precision\": precision, \"recall\": recall}"
      ]
    },
    {
      "cell_type": "code",
      "execution_count": 21,
      "id": "01edbcaa",
      "metadata": {
        "id": "01edbcaa"
      },
      "outputs": [],
      "source": [
        "training_args = TrainingArguments(\n",
        "    output_dir='./results',\n",
        "    eval_strategy=\"epoch\",\n",
        "    learning_rate=2e-5,\n",
        "    per_device_train_batch_size=8,\n",
        "    per_device_eval_batch_size=8,\n",
        "    num_train_epochs=2,\n",
        "    weight_decay=0.01,\n",
        "    logging_dir='./logs',\n",
        "    logging_steps=50,\n",
        "    report_to=\"none\"\n",
        ")"
      ]
    },
    {
      "cell_type": "code",
      "execution_count": 22,
      "id": "09acc606",
      "metadata": {
        "id": "09acc606"
      },
      "outputs": [],
      "source": [
        "from torch.utils.data import Subset\n",
        "\n",
        "trainer = Trainer(\n",
        "    model=model,\n",
        "    args=training_args,\n",
        "    train_dataset=Subset(train_dataset, range(8000)),\n",
        "    eval_dataset=Subset(test_dataset, range(2000)),\n",
        "    compute_metrics=compute_metrics,\n",
        ")\n",
        "\n",
        "eval_dataset = Subset(test_dataset, range(2000))"
      ]
    },
    {
      "cell_type": "code",
      "execution_count": 23,
      "id": "f06eb4e0",
      "metadata": {
        "id": "f06eb4e0",
        "colab": {
          "base_uri": "https://localhost:8080/",
          "height": 174
        },
        "outputId": "c14d3fe8-ae64-4912-96ff-2c09146ae194"
      },
      "outputs": [
        {
          "output_type": "display_data",
          "data": {
            "text/plain": [
              "<IPython.core.display.HTML object>"
            ],
            "text/html": [
              "\n",
              "    <div>\n",
              "      \n",
              "      <progress value='2000' max='2000' style='width:300px; height:20px; vertical-align: middle;'></progress>\n",
              "      [2000/2000 15:21, Epoch 2/2]\n",
              "    </div>\n",
              "    <table border=\"1\" class=\"dataframe\">\n",
              "  <thead>\n",
              " <tr style=\"text-align: left;\">\n",
              "      <th>Epoch</th>\n",
              "      <th>Training Loss</th>\n",
              "      <th>Validation Loss</th>\n",
              "      <th>Accuracy</th>\n",
              "      <th>F1</th>\n",
              "      <th>Precision</th>\n",
              "      <th>Recall</th>\n",
              "    </tr>\n",
              "  </thead>\n",
              "  <tbody>\n",
              "    <tr>\n",
              "      <td>1</td>\n",
              "      <td>0.104400</td>\n",
              "      <td>0.531360</td>\n",
              "      <td>0.899000</td>\n",
              "      <td>0.899101</td>\n",
              "      <td>0.877193</td>\n",
              "      <td>0.922131</td>\n",
              "    </tr>\n",
              "    <tr>\n",
              "      <td>2</td>\n",
              "      <td>0.102300</td>\n",
              "      <td>0.532716</td>\n",
              "      <td>0.906000</td>\n",
              "      <td>0.903292</td>\n",
              "      <td>0.907025</td>\n",
              "      <td>0.899590</td>\n",
              "    </tr>\n",
              "  </tbody>\n",
              "</table><p>"
            ]
          },
          "metadata": {}
        },
        {
          "output_type": "execute_result",
          "data": {
            "text/plain": [
              "TrainOutput(global_step=2000, training_loss=0.10086476370692253, metrics={'train_runtime': 921.9686, 'train_samples_per_second': 17.354, 'train_steps_per_second': 2.169, 'total_flos': 2104888442880000.0, 'train_loss': 0.10086476370692253, 'epoch': 2.0})"
            ]
          },
          "metadata": {},
          "execution_count": 23
        }
      ],
      "source": [
        "trainer.train()"
      ]
    },
    {
      "cell_type": "code",
      "execution_count": 24,
      "id": "8b5853e9",
      "metadata": {
        "id": "8b5853e9",
        "colab": {
          "base_uri": "https://localhost:8080/",
          "height": 75
        },
        "outputId": "a2e888a5-9820-4ff8-9727-c6a2aaf0730e"
      },
      "outputs": [
        {
          "output_type": "display_data",
          "data": {
            "text/plain": [
              "<IPython.core.display.HTML object>"
            ],
            "text/html": [
              "\n",
              "    <div>\n",
              "      \n",
              "      <progress value='250' max='250' style='width:300px; height:20px; vertical-align: middle;'></progress>\n",
              "      [250/250 00:30]\n",
              "    </div>\n",
              "    "
            ]
          },
          "metadata": {}
        },
        {
          "output_type": "stream",
          "name": "stdout",
          "text": [
            "{'eval_loss': 0.5327157974243164, 'eval_accuracy': 0.906, 'eval_f1': 0.9032921810699589, 'eval_precision': 0.9070247933884298, 'eval_recall': 0.8995901639344263, 'eval_runtime': 31.0662, 'eval_samples_per_second': 64.379, 'eval_steps_per_second': 8.047, 'epoch': 2.0}\n"
          ]
        }
      ],
      "source": [
        "results = trainer.evaluate()\n",
        "print(results)"
      ]
    },
    {
      "cell_type": "code",
      "execution_count": 25,
      "id": "e0a7da6f",
      "metadata": {
        "id": "e0a7da6f",
        "colab": {
          "base_uri": "https://localhost:8080/",
          "height": 410
        },
        "outputId": "a7b27395-e8ca-45dc-d1d3-ad6e37a57b8d"
      },
      "outputs": [
        {
          "output_type": "display_data",
          "data": {
            "text/plain": [
              "<IPython.core.display.HTML object>"
            ],
            "text/html": []
          },
          "metadata": {}
        },
        {
          "output_type": "display_data",
          "data": {
            "text/plain": [
              "<Figure size 600x400 with 2 Axes>"
            ],
            "image/png": "[encoded data removed]"
          },
          "metadata": {}
        }
      ],
      "source": [
        "predictions = trainer.predict(eval_dataset)\n",
        "y_pred = np.argmax(predictions.predictions, axis=1)\n",
        "y_true = predictions.label_ids\n",
        "\n",
        "cm = confusion_matrix(y_true, y_pred)\n",
        "plt.figure(figsize=(6,4))\n",
        "sns.heatmap(cm, annot=True, fmt='d', cmap='Blues', xticklabels=['Negative', 'Positive'], yticklabels=['Negative', 'Positive'])\n",
        "plt.xlabel('Predicted Label')\n",
        "plt.ylabel('True Label')\n",
        "plt.title('Confusion Matrix for BERT Sentiment Analysis')\n",
        "plt.show()"
      ]
    },
    {
      "cell_type": "code",
      "execution_count": 26,
      "id": "5958e8f6",
      "metadata": {
        "id": "5958e8f6",
        "colab": {
          "base_uri": "https://localhost:8080/",
          "height": 487
        },
        "outputId": "16fc4300-6b50-47c4-9d7d-6058a23a314c"
      },
      "outputs": [
        {
          "output_type": "display_data",
          "data": {
            "text/plain": [
              "<Figure size 800x500 with 1 Axes>"
            ],
            "image/png": "[encoded data removed]"
          },
          "metadata": {}
        }
      ],
      "source": [
        "log_history = trainer.state.log_history\n",
        "\n",
        "train_steps = [x[\"step\"] for x in log_history if \"loss\" in x.keys()]\n",
        "train_loss = [x[\"loss\"] for x in log_history if \"loss\" in x.keys()]\n",
        "\n",
        "eval_steps = [x[\"step\"] for x in log_history if \"eval_loss\" in x.keys()]\n",
        "eval_loss = [x[\"eval_loss\"] for x in log_history if \"eval_loss\" in x.keys()]\n",
        "\n",
        "\n",
        "plt.figure(figsize=(8,5))\n",
        "plt.plot(train_steps, train_loss, label=\"Training Loss\")\n",
        "plt.plot(eval_steps, eval_loss, label=\"Validation Loss\", linestyle='--')\n",
        "plt.xlabel(\"Steps\")\n",
        "plt.ylabel(\"Loss\")\n",
        "plt.title(\"Training vs Validation Loss\")\n",
        "plt.legend()\n",
        "plt.show()"
      ]
    },
    {
      "cell_type": "code",
      "execution_count": 28,
      "id": "a5a7f8f1",
      "metadata": {
        "id": "a5a7f8f1",
        "colab": {
          "base_uri": "https://localhost:8080/"
        },
        "outputId": "678a13c9-9709-4498-e2f9-d2a22be26695"
      },
      "outputs": [
        {
          "output_type": "stream",
          "name": "stdout",
          "text": [
            "Positive 😊\n",
            "Negative 😞\n"
          ]
        }
      ],
      "source": [
        "def predict_sentiment(text):\n",
        "    inputs = tokenizer(text, return_tensors=\"pt\", truncation=True, padding=True)\n",
        "    # Move input tensors to the same device as the model\n",
        "    inputs = {key: val.to(model.device) for key, val in inputs.items()}\n",
        "    outputs = model(**inputs)\n",
        "    pred = torch.argmax(outputs.logits).item()\n",
        "    return \"Positive 😊\" if pred == 1 else \"Negative 😞\"\n",
        "\n",
        "print(predict_sentiment(\"The movie was outstanding and emotional!\"))\n",
        "print(predict_sentiment(\"The plot was boring and predictable.\"))"
      ]
    },
    {
      "cell_type": "code",
      "execution_count": 29,
      "id": "ba49a80d",
      "metadata": {
        "id": "ba49a80d",
        "colab": {
          "base_uri": "https://localhost:8080/"
        },
        "outputId": "05d0bb2a-95c4-48a5-a80a-acbd2ce27750"
      },
      "outputs": [
        {
          "output_type": "execute_result",
          "data": {
            "text/plain": [
              "('/content/drive/MyDrive/NLP_BERT_dataset/bert_sentiment_model/tokenizer_config.json',\n",
              " '/content/drive/MyDrive/NLP_BERT_dataset/bert_sentiment_model/special_tokens_map.json',\n",
              " '/content/drive/MyDrive/NLP_BERT_dataset/bert_sentiment_model/vocab.txt',\n",
              " '/content/drive/MyDrive/NLP_BERT_dataset/bert_sentiment_model/added_tokens.json')"
            ]
          },
          "metadata": {},
          "execution_count": 29
        }
      ],
      "source": [
        "model.save_pretrained(\"/content/drive/MyDrive/NLP_BERT_dataset/bert_sentiment_model\")\n",
        "tokenizer.save_pretrained(\"/content/drive/MyDrive/NLP_BERT_dataset/bert_sentiment_model\")"
      ]
    },
    {
      "cell_type": "code",
      "metadata": {
        "colab": {
          "base_uri": "https://localhost:8080/"
        },
        "id": "211cb6de",
        "outputId": "a9ce82ab-4d85-4249-8bba-0987fe76bf7c"
      },
      "source": [
        "from transformers import BertTokenizer, BertForSequenceClassification\n",
        "import torch\n",
        "\n",
        "# Define the path where you saved the model\n",
        "save_directory = \"/content/drive/MyDrive/NLP_BERT_dataset/bert_sentiment_model\"\n",
        "\n",
        "# Load the tokenizer and model\n",
        "loaded_tokenizer = BertTokenizer.from_pretrained(save_directory)\n",
        "loaded_model = BertForSequenceClassification.from_pretrained(save_directory)\n",
        "\n",
        "# Ensure the loaded model is on the correct device (GPU if available)\n",
        "loaded_model.to(model.device)\n",
        "\n",
        "def predict_sentiment_with_loaded_model(text):\n",
        "    inputs = loaded_tokenizer(text, return_tensors=\"pt\", truncation=True, padding=True)\n",
        "    # Move input tensors to the same device as the model\n",
        "    inputs = {key: val.to(loaded_model.device) for key, val in inputs.items()}\n",
        "    outputs = loaded_model(**inputs)\n",
        "    pred = torch.argmax(outputs.logits).item()\n",
        "    return \"Positive 😊\" if pred == 1 else \"Negative 😞\"\n",
        "\n",
        "# Now you can use the loaded model to predict sentiment\n",
        "print(\"Prediction using loaded model:\")\n",
        "print(predict_sentiment_with_loaded_model(\"This movie was fantastic!\"))\n",
        "print(predict_sentiment_with_loaded_model(\"I did not enjoy this film at all.\"))"
      ],
      "id": "211cb6de",
      "execution_count": 30,
      "outputs": [
        {
          "output_type": "stream",
          "name": "stdout",
          "text": [
            "Prediction using loaded model:\n",
            "Positive 😊\n",
            "Negative 😞\n"
          ]
        }
      ]
    },
    {
      "cell_type": "code",
      "metadata": {
        "colab": {
          "base_uri": "https://localhost:8080/"
        },
        "id": "fed0eae3",
        "outputId": "79e9b356-561c-419a-c0ba-aea97c431cee"
      },
      "source": [
        "%%writefile app.py\n",
        "import streamlit as st\n",
        "from transformers import BertTokenizer, BertForSequenceClassification\n",
        "import torch\n",
        "\n",
        "# Define the path where you saved the model\n",
        "save_directory = \"/content/drive/MyDrive/NLP_BERT_dataset/bert_sentiment_model\"\n",
        "\n",
        "# Load the tokenizer and model (with caching)\n",
        "@st.cache_resource\n",
        "def load_model(save_directory):\n",
        "    tokenizer = BertTokenizer.from_pretrained(save_directory)\n",
        "    model = BertForSequenceClassification.from_pretrained(save_directory)\n",
        "    # Ensure the loaded model is on the correct device (GPU if available)\n",
        "    device = torch.device(\"cuda\" if torch.cuda.is_available() else \"cpu\")\n",
        "    model.to(device)\n",
        "    return tokenizer, model\n",
        "\n",
        "tokenizer, model = load_model(save_directory)\n",
        "\n",
        "def predict_sentiment(text):\n",
        "    inputs = tokenizer(text, return_tensors=\"pt\", truncation=True, padding=True)\n",
        "    # Move input tensors to the same device as the model\n",
        "    device = torch.device(\"cuda\" if torch.cuda.is_available() else \"cpu\")\n",
        "    inputs = {key: val.to(device) for key, val in inputs.items()}\n",
        "    outputs = model(**inputs)\n",
        "    pred = torch.argmax(outputs.logits).item()\n",
        "    return \"Positive 😊\" if pred == 1 else \"Negative 😞\"\n",
        "\n",
        "# Streamlit App Interface\n",
        "st.title(\"IMDb Movie Review Sentiment Analysis\")\n",
        "st.write(\"Enter a movie review below to get a sentiment prediction.\")\n",
        "\n",
        "user_input = st.text_area(\"Enter Review Here:\")\n",
        "\n",
        "if st.button(\"Analyze Sentiment\"):\n",
        "    if user_input:\n",
        "        sentiment = predict_sentiment(user_input)\n",
        "        st.write(f\"Predicted Sentiment: {sentiment}\")\n",
        "    else:\n",
        "        st.write(\"Please enter a review to analyze.\")"
      ],
      "id": "fed0eae3",
      "execution_count": 31,
      "outputs": [
        {
          "output_type": "stream",
          "name": "stdout",
          "text": [
            "Writing app.py\n"
          ]
        }
      ]
    },
    {
      "cell_type": "code",
      "metadata": {
        "colab": {
          "base_uri": "https://localhost:8080/"
        },
        "id": "7e58b47e",
        "outputId": "5248f6b1-dd55-4f8f-cac4-25328b4db7c4"
      },
      "source": [
        "!pip install streamlit -q\n",
        "!pip install pyngrok -q\n",
        "from pyngrok import ngrok"
      ],
      "id": "7e58b47e",
      "execution_count": 32,
      "outputs": [
        {
          "output_type": "stream",
          "name": "stdout",
          "text": [
            "\u001b[2K   \u001b[90m━━━━━━━━━━━━━━━━━━━━━━━━━━━━━━━━━━━━━━━━\u001b[0m \u001b[32m10.1/10.1 MB\u001b[0m \u001b[31m106.3 MB/s\u001b[0m eta \u001b[36m0:00:00\u001b[0m\n",
            "\u001b[2K   \u001b[90m━━━━━━━━━━━━━━━━━━━━━━━━━━━━━━━━━━━━━━━━\u001b[0m \u001b[32m6.9/6.9 MB\u001b[0m \u001b[31m143.0 MB/s\u001b[0m eta \u001b[36m0:00:00\u001b[0m\n",
            "\u001b[?25h"
          ]
        }
      ]
    },
    {
      "cell_type": "code",
      "metadata": {
        "colab": {
          "base_uri": "https://localhost:8080/"
        },
        "id": "b63cd7b9",
        "outputId": "11f06b50-a7ed-440c-e7a5-e178e25de519"
      },
      "source": [
        "# Terminate any active ngrok tunnels\n",
        "ngrok.kill()\n",
        "\n",
        "# Set your authentication token. Get it from https://dashboard.ngrok.com/get-started/your-authtoken\n",
        "# Replace 'YOUR_AUTHTOKEN' with your actual ngrok authentication token\n",
        "ngrok.set_auth_token(\"34dedk20Uqh7EltYIKQJfx4Tx4V_6TEEqxfrhoT97ruskGenX\")\n",
        "\n",
        "# Open a tunnel to the Streamlit port 8501\n",
        "public_url = ngrok.connect(addr=\"8501\", proto=\"http\")\n",
        "print(f\"Streamlit app available at: {public_url}\")"
      ],
      "id": "b63cd7b9",
      "execution_count": 37,
      "outputs": [
        {
          "output_type": "stream",
          "name": "stdout",
          "text": [
            "Streamlit app available at: NgrokTunnel: \"https://remiform-judy-heptarchical.ngrok-free.dev\" -> \"http://localhost:8501\"\n"
          ]
        }
      ]
    },
    {
      "cell_type": "code",
      "metadata": {
        "colab": {
          "base_uri": "https://localhost:8080/"
        },
        "id": "9448aa36",
        "outputId": "561b6d0b-5b34-483e-9277-5d7012969dd9"
      },
      "source": [
        "!streamlit run app.py"
      ],
      "id": "9448aa36",
      "execution_count": 38,
      "outputs": [
        {
          "output_type": "stream",
          "name": "stdout",
          "text": [
            "\n",
            "Collecting usage statistics. To deactivate, set browser.gatherUsageStats to false.\n",
            "\u001b[0m\n",
            "\u001b[0m\n",
            "\u001b[34m\u001b[1m  You can now view your Streamlit app in your browser.\u001b[0m\n",
            "\u001b[0m\n",
            "\u001b[34m  Local URL: \u001b[0m\u001b[1mhttp://localhost:8501\u001b[0m\n",
            "\u001b[34m  Network URL: \u001b[0m\u001b[1mhttp://172.28.0.12:8501\u001b[0m\n",
            "\u001b[34m  External URL: \u001b[0m\u001b[1mhttp://34.125.61.250:8501\u001b[0m\n",
            "\u001b[0m\n",
            "2025-10-27 07:02:08.791494: E external/local_xla/xla/stream_executor/cuda/cuda_fft.cc:467] Unable to register cuFFT factory: Attempting to register factory for plugin cuFFT when one has already been registered\n",
            "WARNING: All log messages before absl::InitializeLog() is called are written to STDERR\n",
            "E0000 00:00:1761548528.814378   30239 cuda_dnn.cc:8579] Unable to register cuDNN factory: Attempting to register factory for plugin cuDNN when one has already been registered\n",
            "E0000 00:00:1761548528.821205   30239 cuda_blas.cc:1407] Unable to register cuBLAS factory: Attempting to register factory for plugin cuBLAS when one has already been registered\n",
            "W0000 00:00:1761548528.837852   30239 computation_placer.cc:177] computation placer already registered. Please check linkage and avoid linking the same target more than once.\n",
            "W0000 00:00:1761548528.837882   30239 computation_placer.cc:177] computation placer already registered. Please check linkage and avoid linking the same target more than once.\n",
            "W0000 00:00:1761548528.837886   30239 computation_placer.cc:177] computation placer already registered. Please check linkage and avoid linking the same target more than once.\n",
            "W0000 00:00:1761548528.837890   30239 computation_placer.cc:177] computation placer already registered. Please check linkage and avoid linking the same target more than once.\n",
            "\u001b[34m  Stopping...\u001b[0m\n",
            "\u001b[34m  Stopping...\u001b[0m\n"
          ]
        }
      ]
    }
  ],
  "metadata": {
    "colab": {
      "provenance": [],
      "gpuType": "T4"
    },
    "accelerator": "GPU",
    "language_info": {
      "name": "python"
    },
    "kernelspec": {
      "name": "python3",
      "display_name": "Python 3"
    }
  },
  "nbformat": 4,
  "nbformat_minor": 5
}